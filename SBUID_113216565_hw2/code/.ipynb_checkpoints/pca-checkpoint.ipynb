{
 "cells": [
  {
   "cell_type": "code",
   "execution_count": 51,
   "metadata": {},
   "outputs": [
    {
     "name": "stdout",
     "output_type": "stream",
     "text": [
      "(178, 13)\n",
      "(178, 178)\n",
      "(178, 2)\n"
     ]
    },
    {
     "ename": "NameError",
     "evalue": "name 'embeddings' is not defined",
     "output_type": "error",
     "traceback": [
      "\u001b[0;31m---------------------------------------------------------------------------\u001b[0m",
      "\u001b[0;31mNameError\u001b[0m                                 Traceback (most recent call last)",
      "\u001b[0;32m<ipython-input-51-cf71c082171b>\u001b[0m in \u001b[0;36m<module>\u001b[0;34m\u001b[0m\n\u001b[1;32m    136\u001b[0m \u001b[0;34m\u001b[0m\u001b[0m\n\u001b[1;32m    137\u001b[0m \u001b[0;31m#     return mds_data\u001b[0m\u001b[0;34m\u001b[0m\u001b[0;34m\u001b[0m\u001b[0;34m\u001b[0m\u001b[0m\n\u001b[0;32m--> 138\u001b[0;31m \u001b[0mget_mds\u001b[0m\u001b[0;34m(\u001b[0m\u001b[0;34m)\u001b[0m\u001b[0;34m\u001b[0m\u001b[0;34m\u001b[0m\u001b[0m\n\u001b[0m",
      "\u001b[0;32m<ipython-input-51-cf71c082171b>\u001b[0m in \u001b[0;36mget_mds\u001b[0;34m()\u001b[0m\n\u001b[1;32m    123\u001b[0m \u001b[0;34m\u001b[0m\u001b[0m\n\u001b[1;32m    124\u001b[0m \u001b[0;34m\u001b[0m\u001b[0m\n\u001b[0;32m--> 125\u001b[0;31m     \u001b[0mtransformed\u001b[0m \u001b[0;34m=\u001b[0m \u001b[0membeddings\u001b[0m\u001b[0;34m.\u001b[0m\u001b[0mfit_transform\u001b[0m\u001b[0;34m(\u001b[0m\u001b[0mdata_npy\u001b[0m\u001b[0;34m)\u001b[0m\u001b[0;34m\u001b[0m\u001b[0;34m\u001b[0m\u001b[0m\n\u001b[0m\u001b[1;32m    126\u001b[0m     \u001b[0mtransformed\u001b[0m \u001b[0;34m=\u001b[0m \u001b[0mmin_max_sklr\u001b[0m\u001b[0;34m.\u001b[0m\u001b[0mfit_transform\u001b[0m\u001b[0;34m(\u001b[0m\u001b[0mtransformed\u001b[0m\u001b[0;34m)\u001b[0m\u001b[0;34m\u001b[0m\u001b[0;34m\u001b[0m\u001b[0m\n\u001b[1;32m    127\u001b[0m     \u001b[0mmds_data\u001b[0m \u001b[0;34m=\u001b[0m \u001b[0;34m[\u001b[0m\u001b[0;34m]\u001b[0m\u001b[0;34m\u001b[0m\u001b[0;34m\u001b[0m\u001b[0m\n",
      "\u001b[0;31mNameError\u001b[0m: name 'embeddings' is not defined"
     ]
    }
   ],
   "source": [
    "from sklearn.datasets import load_wine\n",
    "from sklearn.preprocessing import StandardScaler, MinMaxScaler\n",
    "from sklearn.decomposition import PCA\n",
    "from sklearn.cluster import KMeans\n",
    "from sklearn.manifold import MDS\n",
    "from sklearn.metrics import pairwise_distances\n",
    "import numpy as np\n",
    "import math\n",
    "import pandas as pd\n",
    "import pprint\n",
    "\n",
    "# data_raw = pd.read_csv('Wine.csv')\n",
    "# remove_categorical = []\n",
    "# dataset = data_raw.drop(columns = remove_categorical)\n",
    "# features = dataset.columns\n",
    "# data_npy = dataset.to_numpy()\n",
    "\n",
    "# Read data from sklearn load as same wine dataset is available there.\n",
    "\n",
    "wine = load_wine()\n",
    "features = wine.feature_names\n",
    "data_npy = wine.data\n",
    "dataset = pd.DataFrame(data_npy)\n",
    "features = [i.replace(\"_\", \" \") for i in features]\n",
    "dataset.columns = features\n",
    "std_sklr = StandardScaler()\n",
    "x = std_sklr.fit_transform(X = data_npy)\n",
    "pca_data = PCA(n_components=len(features))\n",
    "norm_principalComponents_data = pca_data.fit_transform(x)\n",
    "\n",
    "min_max_sklr = MinMaxScaler(feature_range=(-1,1))\n",
    "norm_principalComponents_data = min_max_sklr.fit_transform(X = norm_principalComponents_data)\n",
    "eigen_values = pca_data.explained_variance_\n",
    "\n",
    "def get_data(): \n",
    "    scree_plot = {}\n",
    "    eigen_total = sum(eigen_values)\n",
    "    variance_percentage = []\n",
    "    for i in  eigen_values:\n",
    "        variance_percentage.append((i/eigen_total)*100)\n",
    "    \n",
    "    cumulative_variance = []\n",
    "    temp = 0\n",
    "    for i in variance_percentage:\n",
    "        temp += i\n",
    "        cumulative_variance.append(temp)\n",
    " \n",
    "    for i in range(0, len(eigen_values)):\n",
    "        scree_plot[i+1] = {\"variance_percentage\" : variance_percentage[i], \"cumulative_variance\": cumulative_variance[i]}\n",
    "    return scree_plot\n",
    "\n",
    "def get_top_pca():\n",
    "    feature_contri = {}\n",
    "    count = 0\n",
    "    for i, j, k in zip(features, pca_data.components_[0], pca_data.components_[1]):\n",
    "        feature_contri[count] = {}\n",
    "        feature_contri[count][\"name\"] = i\n",
    "        feature_contri[count][\"pc1\"] = j\n",
    "        feature_contri[count][\"pc2\"] = k\n",
    "        count += 1\n",
    "        \n",
    "    top_pca = norm_principalComponents_data[:,:2]\n",
    "    plot_pca = {}\n",
    "    for i in range(0, len(top_pca)):\n",
    "        plot_pca[i] = {}\n",
    "        plot_pca[i]['pc1'] = top_pca[i, 0]\n",
    "        plot_pca[i]['pc2'] = top_pca[i, 1]\n",
    "        \n",
    "    return feature_contri, plot_pca\n",
    "\n",
    "def get_top_four_features(di = 3):\n",
    "    squared_value = pca_data.components_[:di] ** 2\n",
    "\n",
    "    features_dict = {}\n",
    "    for i in range(0, len(squared_value[0])):\n",
    "        total = 0\n",
    "        for j in range(0, len(squared_value)):\n",
    "            total += squared_value[j][i]\n",
    "        features_dict[features[i]] = total\n",
    "\n",
    "    sorted_features_dict = [k for k, v in sorted(features_dict.items(), key=lambda item: item[1])]\n",
    "    sorted_features_dict = sorted_features_dict[::-1]\n",
    "    best_four_features = sorted_features_dict[:4]\n",
    "    \n",
    "    values_best_best_four_features = {}\n",
    "    for i in best_four_features:\n",
    "        values_best_best_four_features[i] = features_dict[i]\n",
    "\n",
    "    return values_best_best_four_features\n",
    "\n",
    "def get_top_four_matrix(di = 3):\n",
    "    imp_features = get_top_four_features(di)\n",
    "    imp_features_arr = [i for i in imp_features]\n",
    "    np_data = dataset[imp_features_arr].to_numpy()\n",
    "\n",
    "    cluster_features = [i for i in imp_features]\n",
    "    featured_data = dataset[cluster_features]\n",
    "    kmeans = KMeans(n_clusters=3, random_state=0).fit(featured_data)\n",
    "\n",
    "    send_data = {}\n",
    "    for i in range(0, np_data.shape[0]):\n",
    "        send_data[i] = {}\n",
    "        for j in range(0, len(imp_features_arr)):\n",
    "            send_data[i][imp_features_arr[j]] = np_data[i][j]\n",
    "        send_data[i]['label'] = int(kmeans.labels_[i])\n",
    "    return send_data\n",
    "\n",
    "def get_mds():\n",
    "    to_mds = data_npy.copy()\n",
    "    \n",
    "    print(to_mds.shape)\n",
    "    \n",
    "    dis_matrix = pairwise_distances(to_mds)\n",
    "    print(dis_matrix.shape)\n",
    "    \n",
    "    mds_model = MDS(n_components=2, random_state=7, dissimilarity='precomputed')\n",
    "    mds_fit = mds_model.fit(dis_matrix)\n",
    "    mds_coords = mds_model.fit_transform(dis_matrix) \n",
    "\n",
    "    print(mds_coords[:10])\n",
    "    \n",
    "    mds_model2 = MDS(n_components=2, random_state=7)\n",
    "    mds_cords2 = mds_model.fit_transform() \n",
    "    \n",
    "    peinr(mds_cords2[:10])\n",
    "    \n",
    "    \n",
    "    transformed = embeddings.fit_transform(data_npy)\n",
    "    transformed = min_max_sklr.fit_transform(transformed)\n",
    "    mds_data = []\n",
    "    for i in range(transformed.shape[0]):\n",
    "        mds_data.append({'dim1': transformed[i][0], 'dim2': transformed[i][1]})\n",
    "    print(embeddings.dissimilarity_matrix_.max())\n",
    "    \n",
    "    \n",
    "    \n",
    "    \n",
    "    \n",
    "    \n",
    "#     return mds_data\n",
    "get_mds()"
   ]
  },
  {
   "cell_type": "code",
   "execution_count": 48,
   "metadata": {},
   "outputs": [
    {
     "data": {
      "text/plain": [
       "0"
      ]
     },
     "execution_count": 48,
     "metadata": {},
     "output_type": "execute_result"
    }
   ],
   "source": [
    "kmeans.labels_[0]"
   ]
  },
  {
   "cell_type": "code",
   "execution_count": 45,
   "metadata": {},
   "outputs": [
    {
     "data": {
      "text/plain": [
       "array([[3.36981132, 5.00566038, 0.29056604, 1.56037736],\n",
       "       [2.88659794, 6.30103093, 1.69587629, 4.95876289]])"
      ]
     },
     "execution_count": 45,
     "metadata": {},
     "output_type": "execute_result"
    }
   ],
   "source": [
    "kmeans.cluster_centers_"
   ]
  },
  {
   "cell_type": "code",
   "execution_count": 64,
   "metadata": {},
   "outputs": [
    {
     "data": {
      "text/plain": [
       "[7, 9, 11, 21, 4, 28, 29, 14, 16, 8]"
      ]
     },
     "execution_count": 64,
     "metadata": {},
     "output_type": "execute_result"
    }
   ],
   "source": [
    "most_important"
   ]
  },
  {
   "cell_type": "code",
   "execution_count": 75,
   "metadata": {},
   "outputs": [
    {
     "data": {
      "text/plain": [
       "(569,)"
      ]
     },
     "execution_count": 75,
     "metadata": {},
     "output_type": "execute_result"
    }
   ],
   "source": [
    "features = breast.feature_names\n",
    "features.shape"
   ]
  },
  {
   "cell_type": "code",
   "execution_count": 83,
   "metadata": {},
   "outputs": [
    {
     "name": "stdout",
     "output_type": "stream",
     "text": [
      "mean radius\n",
      "mean texture\n",
      "mean perimeter\n",
      "mean area\n",
      "mean smoothness\n",
      "mean compactness\n",
      "mean concavity\n",
      "mean concave points\n",
      "mean symmetry\n",
      "mean fractal dimension\n",
      "radius error\n",
      "texture error\n",
      "perimeter error\n",
      "area error\n",
      "smoothness error\n",
      "compactness error\n",
      "concavity error\n",
      "concave points error\n",
      "symmetry error\n",
      "fractal dimension error\n",
      "worst radius\n",
      "worst texture\n",
      "worst perimeter\n",
      "worst area\n",
      "worst smoothness\n",
      "worst compactness\n",
      "worst concavity\n",
      "worst concave points\n",
      "worst symmetry\n",
      "worst fractal dimension\n"
     ]
    }
   ],
   "source": [
    "for i in features:\n",
    "    print(i)"
   ]
  },
  {
   "cell_type": "code",
   "execution_count": 96,
   "metadata": {},
   "outputs": [],
   "source": [
    "data_send = {}\n",
    "count = 0\n",
    "for i, j, k in zip(features, pca_breast.components_[0], pca_breast.components_[1]):\n",
    "    data_send[count] = {}\n",
    "    data_send[count][\"name\"] = i\n",
    "    data_send[count][\"pc1\"] = j\n",
    "    data_send[count][\"pc2\"] = k\n",
    "    count += 1"
   ]
  },
  {
   "cell_type": "code",
   "execution_count": 97,
   "metadata": {},
   "outputs": [
    {
     "data": {
      "text/plain": [
       "{0: {'name': 'mean radius',\n",
       "  'pc1': 0.21890244370001577,\n",
       "  'pc2': -0.233857131747535},\n",
       " 1: {'name': 'mean texture',\n",
       "  'pc1': 0.10372457821567597,\n",
       "  'pc2': -0.05970608829080295},\n",
       " 2: {'name': 'mean perimeter',\n",
       "  'pc1': 0.2275372930056408,\n",
       "  'pc2': -0.21518136139684982},\n",
       " 3: {'name': 'mean area',\n",
       "  'pc1': 0.22099498538594436,\n",
       "  'pc2': -0.23107671128362745},\n",
       " 4: {'name': 'mean smoothness',\n",
       "  'pc1': 0.14258969436025495,\n",
       "  'pc2': 0.18611302267032268},\n",
       " 5: {'name': 'mean compactness',\n",
       "  'pc1': 0.23928535395301204,\n",
       "  'pc2': 0.15189161007283025},\n",
       " 6: {'name': 'mean concavity',\n",
       "  'pc1': 0.25840048124874004,\n",
       "  'pc2': 0.0601653627989567},\n",
       " 7: {'name': 'mean concave points',\n",
       "  'pc1': 0.26085375838568264,\n",
       "  'pc2': -0.03476750049364384},\n",
       " 8: {'name': 'mean symmetry',\n",
       "  'pc1': 0.13816695930365536,\n",
       "  'pc2': 0.19034877037208467},\n",
       " 9: {'name': 'mean fractal dimension',\n",
       "  'pc1': 0.06436334637180302,\n",
       "  'pc2': 0.3665754713785027},\n",
       " 10: {'name': 'radius error',\n",
       "  'pc1': 0.20597877585522775,\n",
       "  'pc2': -0.105552151826104},\n",
       " 11: {'name': 'texture error',\n",
       "  'pc1': 0.017428028148939064,\n",
       "  'pc2': 0.08997968182955343},\n",
       " 12: {'name': 'perimeter error',\n",
       "  'pc1': 0.21132591637552867,\n",
       "  'pc2': -0.08945723422100084},\n",
       " 13: {'name': 'area error',\n",
       "  'pc1': 0.20286963544140807,\n",
       "  'pc2': -0.15229262810527183},\n",
       " 14: {'name': 'smoothness error',\n",
       "  'pc1': 0.014531452147855336,\n",
       "  'pc2': 0.20443045302975013},\n",
       " 15: {'name': 'compactness error',\n",
       "  'pc1': 0.17039345120742944,\n",
       "  'pc2': 0.23271589619052446},\n",
       " 16: {'name': 'concavity error',\n",
       "  'pc1': 0.15358978973977216,\n",
       "  'pc2': 0.19720728271075533},\n",
       " 17: {'name': 'concave points error',\n",
       "  'pc1': 0.1834173969641168,\n",
       "  'pc2': 0.1303215599076057},\n",
       " 18: {'name': 'symmetry error',\n",
       "  'pc1': 0.04249842163304167,\n",
       "  'pc2': 0.18384799994442094},\n",
       " 19: {'name': 'fractal dimension error',\n",
       "  'pc1': 0.10256832209561646,\n",
       "  'pc2': 0.2800920266123792},\n",
       " 20: {'name': 'worst radius',\n",
       "  'pc1': 0.2279966342324634,\n",
       "  'pc2': -0.21986637930007072},\n",
       " 21: {'name': 'worst texture',\n",
       "  'pc1': 0.10446932545723345,\n",
       "  'pc2': -0.04546729827108406},\n",
       " 22: {'name': 'worst perimeter',\n",
       "  'pc1': 0.23663968074165845,\n",
       "  'pc2': -0.1998784279410524},\n",
       " 23: {'name': 'worst area',\n",
       "  'pc1': 0.2248705327341829,\n",
       "  'pc2': -0.21935185792236406},\n",
       " 24: {'name': 'worst smoothness',\n",
       "  'pc1': 0.12795256119283224,\n",
       "  'pc2': 0.17230435165224395},\n",
       " 25: {'name': 'worst compactness',\n",
       "  'pc1': 0.21009588015783354,\n",
       "  'pc2': 0.14359317327176851},\n",
       " 26: {'name': 'worst concavity',\n",
       "  'pc1': 0.22876753281507123,\n",
       "  'pc2': 0.09796411433615079},\n",
       " 27: {'name': 'worst concave points',\n",
       "  'pc1': 0.25088597121804107,\n",
       "  'pc2': -0.008257235069985415},\n",
       " 28: {'name': 'worst symmetry',\n",
       "  'pc1': 0.12290455637796138,\n",
       "  'pc2': 0.14188334860251317},\n",
       " 29: {'name': 'worst fractal dimension',\n",
       "  'pc1': 0.13178394287790116,\n",
       "  'pc2': 0.27533946858033864}}"
      ]
     },
     "execution_count": 97,
     "metadata": {},
     "output_type": "execute_result"
    }
   ],
   "source": [
    "data_send"
   ]
  },
  {
   "cell_type": "code",
   "execution_count": 55,
   "metadata": {},
   "outputs": [
    {
     "name": "stderr",
     "output_type": "stream",
     "text": [
      "/Users/aditya/opt/anaconda3/envs/vis/lib/python3.9/site-packages/sklearn/metrics/pairwise.py:1776: DataConversionWarning: Data was converted to boolean for metric jaccard\n",
      "  warnings.warn(msg, DataConversionWarning)\n"
     ]
    },
    {
     "name": "stdout",
     "output_type": "stream",
     "text": [
      "[[ 0.17620968  0.10345306]\n",
      " [ 0.65366682  0.22583309]\n",
      " [ 0.08302196  0.340818  ]\n",
      " [-0.59067503  0.44370301]\n",
      " [ 0.62658923 -0.32180243]\n",
      " [ 0.52732275  0.05636995]\n",
      " [-0.15133323  0.53495347]\n",
      " [-0.19282029 -0.4582317 ]\n",
      " [-0.04153988  0.12778637]\n",
      " [ 0.26600682  0.24906742]]\n",
      "0.17620967950451455 : 0.10345305849447403\n",
      "0.6536668224462788 : 0.2258330857122121\n",
      "0.08302195898052603 : 0.3408180005959547\n",
      "-0.5906750283714527 : 0.4437030145096877\n",
      "0.6265892270697749 : -0.32180242607498344\n",
      "0.5273227482739303 : 0.05636995423626634\n",
      "-0.15133322594484833 : 0.534953467902458\n",
      "-0.19282029405010132 : -0.4582317025798041\n",
      "-0.041539878889445096 : 0.12778636913413605\n",
      "0.2660068208800679 : 0.24906742496282927\n"
     ]
    },
    {
     "data": {
      "image/png": "[encoded data removed]",
      "text/plain": [
       "<Figure size 432x288 with 1 Axes>"
      ]
     },
     "metadata": {
      "needs_background": "light"
     },
     "output_type": "display_data"
    }
   ],
   "source": [
    "import numpy as np  \n",
    "import scipy\n",
    "import matplotlib.pyplot as plt\n",
    "from sklearn.metrics import pairwise_distances #jaccard diss.\n",
    "from sklearn import manifold  # multidimensional scaling\n",
    "foods_binary = np.random.randint(2, size=(100, 10)) #initial dataset\n",
    "\n",
    "dis_matrix = pairwise_distances(foods_binary, metric = 'jaccard')\n",
    "\n",
    "mds_model = manifold.MDS(n_components = 2, random_state = 123,\n",
    "    dissimilarity = 'precomputed')\n",
    "mds_fit = mds_model.fit(dis_matrix)  \n",
    "mds_coords = mds_model.fit_transform(dis_matrix) \n",
    "print(mds_coords[:10])\n",
    "\n",
    "food_names = ['pasta', 'pizza', 'meat', 'eggs', 'cheese', 'ananas', 'pear', 'bread', 'nuts', 'milk']\n",
    "plt.figure()\n",
    "plt.scatter(mds_coords[:,0],mds_coords[:,1],\n",
    "    facecolors = 'none', edgecolors = 'none')  # points in white (invisible)\n",
    "labels = food_names\n",
    "for label, x, y in zip(labels, mds_coords[:,0], mds_coords[:,1]):\n",
    "    print(x,\":\",y)\n",
    "    plt.annotate(label, (x,y), xycoords = 'data')\n",
    "plt.xlabel('First Dimension')\n",
    "plt.ylabel('Second Dimension')\n",
    "plt.title('Dissimilarity among food items')    \n",
    "plt.show()"
   ]
  },
  {
   "cell_type": "code",
   "execution_count": null,
   "metadata": {},
   "outputs": [],
   "source": []
  }
 ],
 "metadata": {
  "kernelspec": {
   "display_name": "vis",
   "language": "python",
   "name": "vis"
  },
  "language_info": {
   "codemirror_mode": {
    "name": "ipython",
    "version": 3
   },
   "file_extension": ".py",
   "mimetype": "text/x-python",
   "name": "python",
   "nbconvert_exporter": "python",
   "pygments_lexer": "ipython3",
   "version": "3.9.1"
  }
 },
 "nbformat": 4,
 "nbformat_minor": 4
}
