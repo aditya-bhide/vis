{
 "cells": [
  {
   "cell_type": "code",
   "execution_count": 9,
   "metadata": {},
   "outputs": [],
   "source": [
    "import numpy as np\n",
    "P = [[0.9,0.1,0,0],\n",
    "    [0, 0, 0.5,0.5],\n",
    "    [0, 0, 0.1, 0.9],\n",
    "    [0.8, 0.2, 0, 0]]"
   ]
  },
  {
   "cell_type": "code",
   "execution_count": 10,
   "metadata": {},
   "outputs": [],
   "source": [
    "P = np.array(P)"
   ]
  },
  {
   "cell_type": "code",
   "execution_count": 11,
   "metadata": {},
   "outputs": [
    {
     "name": "stdout",
     "output_type": "stream",
     "text": [
      "[[0.53333333 0.06666667 0.33333333 0.06666667]\n",
      " [0.53333333 0.06666667 0.33333333 0.06666667]\n",
      " [0.53333333 0.06666667 0.33333333 0.06666667]\n",
      " [0.53333333 0.06666667 0.33333333 0.06666667]]\n"
     ]
    }
   ],
   "source": [
    "def steady_state_power(transition_matrix):\n",
    "    matrix_itr = np.linalg.matrix_power(transition_matrix, 500)\n",
    "    a = matrix_itr\n",
    "    return a\n",
    "print(steady_state_power(P))\n",
    "    "
   ]
  },
  {
   "cell_type": "code",
   "execution_count": null,
   "metadata": {},
   "outputs": [],
   "source": []
  },
  {
   "cell_type": "code",
   "execution_count": null,
   "metadata": {},
   "outputs": [],
   "source": []
  }
 ],
 "metadata": {
  "kernelspec": {
   "display_name": "Python 3",
   "language": "python",
   "name": "python3"
  },
  "language_info": {
   "codemirror_mode": {
    "name": "ipython",
    "version": 3
   },
   "file_extension": ".py",
   "mimetype": "text/x-python",
   "name": "python",
   "nbconvert_exporter": "python",
   "pygments_lexer": "ipython3",
   "version": "3.8.5"
  }
 },
 "nbformat": 4,
 "nbformat_minor": 4
}
