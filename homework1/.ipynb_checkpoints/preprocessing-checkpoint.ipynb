{
 "cells": [
  {
   "cell_type": "code",
   "execution_count": 81,
   "metadata": {},
   "outputs": [
    {
     "name": "stdout",
     "output_type": "stream",
     "text": [
      "       age                 club  height_cm  weight_kg nationality  overall  \\\n",
      "0       32         FC Barcelona        170         72   Argentina       94   \n",
      "1       34             Juventus        187         83    Portugal       93   \n",
      "2       27  Paris Saint-Germain        175         68      Brazil       92   \n",
      "4       28          Real Madrid        175         74     Belgium       91   \n",
      "5       28      Manchester City        181         70     Belgium       91   \n",
      "...    ...                  ...        ...        ...         ...      ...   \n",
      "17514   19           Gillingham        187         82     England       54   \n",
      "17580   28           Derry City        170         64   Argentina       54   \n",
      "17781   17       Fleetwood Town        182         65     England       52   \n",
      "17850   19           Gillingham        187         73     England       52   \n",
      "17946   36         Lincoln City        196         79     England       52   \n",
      "\n",
      "       value_eur  wage_eur preferred_foot  international_reputation  \\\n",
      "0       95500000    565000           Left                         5   \n",
      "1       58500000    405000          Right                         5   \n",
      "2      105500000    290000          Right                         5   \n",
      "4       90000000    470000          Right                         4   \n",
      "5       90000000    370000          Right                         4   \n",
      "...          ...       ...            ...                       ...   \n",
      "17514     110000      1000           Left                         1   \n",
      "17580      70000      1000           Left                         1   \n",
      "17781     100000      1000          Right                         1   \n",
      "17850     110000      1000          Right                         1   \n",
      "17946      10000      1000          Right                         1   \n",
      "\n",
      "      team_position  pace  shooting  dribbling  defending  physic  skill_moves  \n",
      "0                RW  87.0      92.0       96.0       39.0    66.0            4  \n",
      "1                LW  90.0      93.0       89.0       35.0    78.0            5  \n",
      "2               CAM  91.0      85.0       95.0       32.0    58.0            5  \n",
      "4                LW  91.0      83.0       94.0       35.0    66.0            4  \n",
      "5               RCM  76.0      86.0       86.0       61.0    78.0            4  \n",
      "...             ...   ...       ...        ...        ...     ...          ...  \n",
      "17514           SUB  78.0      48.0       52.0       22.0    69.0            3  \n",
      "17580           SUB  57.0      55.0       62.0       31.0    40.0            3  \n",
      "17781           RES  54.0      22.0       29.0       52.0    59.0            2  \n",
      "17850           RES  68.0      50.0       49.0       44.0    65.0            2  \n",
      "17946           SUB  24.0      22.0       23.0       50.0    57.0            2  \n",
      "\n",
      "[2330 rows x 17 columns]\n"
     ]
    }
   ],
   "source": [
    "import pandas as pd\n",
    "# pd.set_option('display.max_rows', None)\n",
    "# pd.set_option('display.max_columns', None)\n",
    "df = pd.read_csv(r'players_20.csv')\n",
    "\n",
    "temp = ['Belgium', 'France', 'Brazil', 'England', 'Portugal', 'Spain', 'Argentina']\n",
    "drop_rows = []\n",
    "\n",
    "# Select seven nations\n",
    "for index, row in df.iterrows():\n",
    "    if row['nationality'] not in temp:\n",
    "        drop_rows.append(index)\n",
    "        \n",
    "# Drop all but seven nations\n",
    "df.drop(drop_rows, inplace=True)\n",
    "\n",
    "# print(df.shape)\n",
    "# Drop all columns containing more than specific NA values\n",
    "df.dropna(axis=1, thresh=len(df.index)-5100, inplace=True)\n",
    "\n",
    "# Drop rows with NA values\n",
    "df.dropna(inplace=True)\n",
    "\n",
    "# Only keep required columns\n",
    "keep_attributes = [\"age\", \"club\", \"height_cm\", \"weight_kg\", \"nationality\", \"overall\", \"value_eur\", \"wage_eur\", \"preferred_foot\", \"international_reputation\", \"team_position\", \"pace\", \"shooting\", \"dribbling\", \"defending\", \"physic\", \"skill_moves\"]\n",
    "final_columns =  df[keep_attributes]\n",
    "print(final_columns)\n",
    "\n",
    "final = final_column.head(700)"
   ]
  },
  {
   "cell_type": "code",
   "execution_count": null,
   "metadata": {},
   "outputs": [],
   "source": []
  },
  {
   "cell_type": "code",
   "execution_count": null,
   "metadata": {},
   "outputs": [],
   "source": []
  },
  {
   "cell_type": "code",
   "execution_count": null,
   "metadata": {},
   "outputs": [],
   "source": []
  },
  {
   "cell_type": "code",
   "execution_count": 22,
   "metadata": {},
   "outputs": [],
   "source": [
    "df.to_csv(\"temp.csv\")"
   ]
  },
  {
   "cell_type": "code",
   "execution_count": null,
   "metadata": {},
   "outputs": [],
   "source": []
  }
 ],
 "metadata": {
  "kernelspec": {
   "display_name": "Python 3",
   "language": "python",
   "name": "python3"
  },
  "language_info": {
   "codemirror_mode": {
    "name": "ipython",
    "version": 3
   },
   "file_extension": ".py",
   "mimetype": "text/x-python",
   "name": "python",
   "nbconvert_exporter": "python",
   "pygments_lexer": "ipython3",
   "version": "3.8.5"
  }
 },
 "nbformat": 4,
 "nbformat_minor": 4
}
