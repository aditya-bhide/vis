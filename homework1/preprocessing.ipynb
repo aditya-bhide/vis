{
 "cells": [
  {
   "cell_type": "code",
   "execution_count": 18,
   "metadata": {},
   "outputs": [
    {
     "name": "stdout",
     "output_type": "stream",
     "text": [
      "age                           int64\n",
      "height_cm                     int64\n",
      "weight_kg                     int64\n",
      "nationality                  object\n",
      "overall                       int64\n",
      "value_EUR                     int64\n",
      "wage_EUR                      int64\n",
      "preferred_foot               object\n",
      "international_reputation      int64\n",
      "team_position                object\n",
      "pace                        float64\n",
      "shooting                    float64\n",
      "dribbling                   float64\n",
      "defending                   float64\n",
      "physique                    float64\n",
      "skill_moves                   int64\n",
      "dtype: object\n"
     ]
    }
   ],
   "source": [
    "import pandas as pd\n",
    "# pd.set_option('display.max_rows', None)\n",
    "# pd.set_option('display.max_columns', None)\n",
    "df = pd.read_csv(r'players_20.csv')\n",
    "\n",
    "temp = ['Belgium', 'France', 'Brazil', 'England', 'Portugal', 'Spain', 'Argentina']\n",
    "drop_rows = []\n",
    "\n",
    "# Select seven nations\n",
    "for index, row in df.iterrows():\n",
    "    if row['nationality'] not in temp:\n",
    "        drop_rows.append(index)\n",
    "        \n",
    "# Drop all but seven nations\n",
    "df.drop(drop_rows, inplace=True)\n",
    "\n",
    "# print(df.shape)\n",
    "# Drop all columns containing more than specific NA values\n",
    "df.dropna(axis=1, thresh=len(df.index)-5100, inplace=True)\n",
    "\n",
    "# Drop rows with NA values\n",
    "df.dropna(inplace=True)\n",
    "\n",
    "# Only keep required columns\n",
    "keep_attributes = [\"age\", \"height_cm\", \"weight_kg\", \"nationality\", \"overall\", \"value_eur\", \"wage_eur\", \"preferred_foot\", \"international_reputation\", \"team_position\", \"pace\", \"shooting\", \"dribbling\", \"defending\", \"physic\", \"skill_moves\"]\n",
    "final_columns =  df[keep_attributes]\n",
    "\n",
    "final = final_columns.head(700)\n",
    "\n",
    "final = final.rename(columns={\"value_eur\":\"value_EUR\",\"wage_eur\":\"wage_EUR\",\"physic\":\"physique\"})\n",
    "final.to_csv(\"FIFA20_dataset_preprocessed.csv\")\n",
    "print(final.dtypes)"
   ]
  },
  {
   "cell_type": "code",
   "execution_count": null,
   "metadata": {},
   "outputs": [],
   "source": []
  },
  {
   "cell_type": "code",
   "execution_count": null,
   "metadata": {},
   "outputs": [],
   "source": []
  }
 ],
 "metadata": {
  "kernelspec": {
   "display_name": "Python 3",
   "language": "python",
   "name": "python3"
  },
  "language_info": {
   "codemirror_mode": {
    "name": "ipython",
    "version": 3
   },
   "file_extension": ".py",
   "mimetype": "text/x-python",
   "name": "python",
   "nbconvert_exporter": "python",
   "pygments_lexer": "ipython3",
   "version": "3.8.5"
  }
 },
 "nbformat": 4,
 "nbformat_minor": 4
}
